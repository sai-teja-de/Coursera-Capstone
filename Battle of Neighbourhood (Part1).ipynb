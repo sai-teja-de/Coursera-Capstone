{
 "cells": [
  {
   "cell_type": "markdown",
   "metadata": {},
   "source": [
    "## Capstone Project Part 1"
   ]
  },
  {
   "cell_type": "markdown",
   "metadata": {},
   "source": [
    "## Description of the problem"
   ]
  },
  {
   "cell_type": "markdown",
   "metadata": {},
   "source": [
    "### Business Understanding"
   ]
  },
  {
   "cell_type": "markdown",
   "metadata": {},
   "source": [
    "##### Problem brought up by Client -\n",
    "Which City and Locality is best to open a Casino/Shopping mall in USA?\n",
    "\n",
    "##### Background \n",
    "My client is a successful Entrepreneur in Asia and now he wants to expand his Business in other countries. He wants to open a Casiono/Shopping Mall in USA but not sure in which City and Locality he should open the Mall and be Succeessful."
   ]
  },
  {
   "cell_type": "markdown",
   "metadata": {},
   "source": [
    "### Analytical approach :-"
   ]
  },
  {
   "cell_type": "markdown",
   "metadata": {},
   "source": [
    "According to the need of client first we have to find the City and then the Locality in that city for Business. To solve this particular problem and to gather data we will set few Benchmarks for the City and the locality in which opening a Casino/Shopping Mall would be Successful.\n"
   ]
  },
  {
   "cell_type": "markdown",
   "metadata": {},
   "source": [
    "1. For discovering the City following benchmarks must meet\n",
    "\n",
    "   * Nightlife\n",
    "   * Services\n",
    "   * Transport\n",
    "   * Residence\n",
    "   * Universities\n",
    "   * Food\n",
    "   * Entertainment\n",
    "   * Travel\n",
    "   * Outdoor Activities\n",
    "   \n",
    "2. Benchmarks for the Locality in City\n",
    "\n",
    "  * Per Capita Income\n",
    "  * Population\n",
    "  * Population Density\n",
    "  * Venues"
   ]
  },
  {
   "cell_type": "markdown",
   "metadata": {},
   "source": [
    "## Data Requirements and Description-"
   ]
  },
  {
   "cell_type": "markdown",
   "metadata": {},
   "source": [
    "Data that will be required for solving the problem -\n",
    "\n",
    " * List of all the cities in United States with population density and coordinates\n",
    " * List of all the cities in United States with Per Capita Income\n",
    " * List of all venues in each city\n",
    " * List of all venues in each locality in the selected city"
   ]
  },
  {
   "cell_type": "markdown",
   "metadata": {},
   "source": [
    "## Source of Data "
   ]
  },
  {
   "cell_type": "markdown",
   "metadata": {},
   "source": [
    "### Wikipedia"
   ]
  },
  {
   "cell_type": "markdown",
   "metadata": {},
   "source": [
    " * https://en.wikipedia.org/wiki/List_of_United_States_cities_by_population\n",
    " * https://en.wikipedia.org/wiki/List_of_United_States_counties_by_per_capita_income"
   ]
  },
  {
   "cell_type": "markdown",
   "metadata": {},
   "source": [
    "#### FourSquare API"
   ]
  },
  {
   "cell_type": "markdown",
   "metadata": {},
   "source": [
    " * For Venues in CIty and in Each locality in selected city."
   ]
  },
  {
   "cell_type": "markdown",
   "metadata": {},
   "source": [
    "### Data Description (How to use Data to solve the Problem?)"
   ]
  },
  {
   "cell_type": "markdown",
   "metadata": {},
   "source": [
    "By Using the Wikipedia data we will first analyse the data and then focus on certain benchmarks to discover the best City in USA to open a Casino/Shopping mall. Then by leveraging the Foursquare data we will compare and try to find the best locality. Based on Scores we will try to determine the Locality in simillar way."
   ]
  }
 ],
 "metadata": {
  "kernelspec": {
   "display_name": "Python 3",
   "language": "python",
   "name": "python3"
  },
  "language_info": {
   "codemirror_mode": {
    "name": "ipython",
    "version": 3
   },
   "file_extension": ".py",
   "mimetype": "text/x-python",
   "name": "python",
   "nbconvert_exporter": "python",
   "pygments_lexer": "ipython3",
   "version": "3.7.3"
  }
 },
 "nbformat": 4,
 "nbformat_minor": 2
}
